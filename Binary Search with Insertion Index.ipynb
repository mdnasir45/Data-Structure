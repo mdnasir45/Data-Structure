{
 "cells": [
  {
   "cell_type": "code",
   "execution_count": 1,
   "id": "ad586ef9-2c1e-48fa-b8bc-e8311d52ee00",
   "metadata": {},
   "outputs": [],
   "source": [
    "class class1:\n",
    "    def method1(self,num:list[int],target:int) ->int:\n",
    "        left=0\n",
    "        right=len(num)-1\n",
    "        while(left<=right):\n",
    "            mid=(left+right)//2\n",
    "            if num[mid]==target:\n",
    "                return mid\n",
    "            elif num[mid]<target:\n",
    "                left=left+1\n",
    "            else:\n",
    "                right=right-1\n",
    "                \n",
    "        return left"
   ]
  },
  {
   "cell_type": "code",
   "execution_count": 23,
   "id": "e84a8ed9-97b5-4264-92d2-a051e9a2ca48",
   "metadata": {},
   "outputs": [
    {
     "name": "stdout",
     "output_type": "stream",
     "text": [
      "Number 6's position should be 2 in the [3, 5, 7, 8, 9]\n"
     ]
    }
   ],
   "source": [
    "instance= class1()\n",
    "list1=[3,5,7,8,9]\n",
    "target=6\n",
    "result=instance.method1(list1,target)\n",
    "print(f\"Number {target}'s position should be {result} in the {list1}\")\n"
   ]
  },
  {
   "cell_type": "code",
   "execution_count": 2,
   "id": "a8285beb-befa-4a52-91dc-6e196c5dcdb9",
   "metadata": {},
   "outputs": [
    {
     "name": "stdout",
     "output_type": "stream",
     "text": [
      "Number 2's position should be 0 in the [3, 5, 7, 8, 9]\n"
     ]
    }
   ],
   "source": [
    "instance= class1()\n",
    "list1=[3,5,7,8,9]\n",
    "target=2\n",
    "result=instance.method1(list1,target)\n",
    "print(f\"Number {target}'s position should be {result} in the {list1}\")\n"
   ]
  },
  {
   "cell_type": "code",
   "execution_count": null,
   "id": "78a0148c-1b83-43b4-9704-9d3570f378e3",
   "metadata": {},
   "outputs": [],
   "source": []
  }
 ],
 "metadata": {
  "kernelspec": {
   "display_name": "Python 3 (ipykernel)",
   "language": "python",
   "name": "python3"
  },
  "language_info": {
   "codemirror_mode": {
    "name": "ipython",
    "version": 3
   },
   "file_extension": ".py",
   "mimetype": "text/x-python",
   "name": "python",
   "nbconvert_exporter": "python",
   "pygments_lexer": "ipython3",
   "version": "3.11.7"
  }
 },
 "nbformat": 4,
 "nbformat_minor": 5
}
